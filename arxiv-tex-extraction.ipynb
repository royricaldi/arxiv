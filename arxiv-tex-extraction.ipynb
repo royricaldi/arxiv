{
 "cells": [
  {
   "cell_type": "markdown",
   "id": "7c3f4f69",
   "metadata": {},
   "source": [
    "# General Notes"
   ]
  },
  {
   "cell_type": "markdown",
   "id": "5ae9b373",
   "metadata": {},
   "source": [
    "This code extracts the tex files from the source code in zip format.\n",
    "\n",
    "The procedure is the following:\n",
    "1. Select a zip file with all the source codes you with to get the tex files from\n",
    "2. Get a list of all archived file names from the zip\n",
    "3. Iterate over the file names\n",
    "4. Check that the file name ends with the format you want to extract (tex)\n",
    "5. Extract a single file from the zip\n",
    "\n",
    "You may find the the new folder with all the extracted tex files in your repository. This code can be edited to extract other types of files. "
   ]
  },
  {
   "cell_type": "code",
   "execution_count": null,
   "id": "f6ad4850",
   "metadata": {},
   "outputs": [],
   "source": [
    "from zipfile import ZipFile\n",
    "def main():\n",
    "    print('Extract single file from ZIP')\n",
    "    # Select zip file to extract files from\n",
    "    with ZipFile('Archive.zip', 'r') as zipObj:\n",
    "       # List archived file names\n",
    "       listOfFileNames = zipObj.namelist()\n",
    "       # Iterate over file names\n",
    "       for fileName in listOfFileNames:\n",
    "           # Check file name ends with tex\n",
    "           if fileName.endswith('.tex'):\n",
    "               # Extract a single file from zip\n",
    "               zipObj.extract(fileName, 'source_tex')\n",
    "if __name__ == '__main__':\n",
    "   main()"
   ]
  }
 ],
 "metadata": {
  "kernelspec": {
   "display_name": "Python 3",
   "language": "python",
   "name": "python3"
  },
  "language_info": {
   "codemirror_mode": {
    "name": "ipython",
    "version": 3
   },
   "file_extension": ".py",
   "mimetype": "text/x-python",
   "name": "python",
   "nbconvert_exporter": "python",
   "pygments_lexer": "ipython3",
   "version": "3.8.8"
  }
 },
 "nbformat": 4,
 "nbformat_minor": 5
}
