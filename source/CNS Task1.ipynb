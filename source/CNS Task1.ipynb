{
 "cells": [
  {
   "cell_type": "markdown",
   "id": "94fc37de",
   "metadata": {},
   "source": [
    "# Task 1"
   ]
  },
  {
   "cell_type": "markdown",
   "id": "b93557f6",
   "metadata": {},
   "source": [
    "This task rough draft is organized through trials. The task was accomplished through trial and error and only making tweaks from code here and there, a solution was found with trial 5."
   ]
  },
  {
   "cell_type": "markdown",
   "id": "ab55024c",
   "metadata": {},
   "source": [
    "Trial 1"
   ]
  },
  {
   "cell_type": "code",
   "execution_count": 1,
   "id": "2c0ba9cf",
   "metadata": {},
   "outputs": [
    {
     "name": "stdout",
     "output_type": "stream",
     "text": [
      "Requirement already satisfied: pywebcopy in /opt/anaconda3/lib/python3.8/site-packages (7.0.2)\n",
      "Requirement already satisfied: setuptools in /opt/anaconda3/lib/python3.8/site-packages (from pywebcopy) (52.0.0.post20210125)\n",
      "Requirement already satisfied: cachecontrol in /opt/anaconda3/lib/python3.8/site-packages (from pywebcopy) (0.12.11)\n",
      "Requirement already satisfied: six in /opt/anaconda3/lib/python3.8/site-packages (from pywebcopy) (1.15.0)\n",
      "Requirement already satisfied: lxml in /opt/anaconda3/lib/python3.8/site-packages (from pywebcopy) (4.6.3)\n",
      "Requirement already satisfied: requests in /opt/anaconda3/lib/python3.8/site-packages (from pywebcopy) (2.25.1)\n",
      "Requirement already satisfied: msgpack>=0.5.2 in /opt/anaconda3/lib/python3.8/site-packages (from cachecontrol->pywebcopy) (1.0.2)\n",
      "Requirement already satisfied: idna<3,>=2.5 in /opt/anaconda3/lib/python3.8/site-packages (from requests->pywebcopy) (2.10)\n",
      "Requirement already satisfied: urllib3<1.27,>=1.21.1 in /opt/anaconda3/lib/python3.8/site-packages (from requests->pywebcopy) (1.26.4)\n",
      "Requirement already satisfied: chardet<5,>=3.0.2 in /opt/anaconda3/lib/python3.8/site-packages (from requests->pywebcopy) (4.0.0)\n",
      "Requirement already satisfied: certifi>=2017.4.17 in /opt/anaconda3/lib/python3.8/site-packages (from requests->pywebcopy) (2020.12.5)\n",
      "Note: you may need to restart the kernel to use updated packages.\n"
     ]
    },
    {
     "name": "stderr",
     "output_type": "stream",
     "text": [
      "DEBUG    - pywebcopy:56 - Added a stderr logging handler to logger: pywebcopy\n",
      "DEBUG    - pywebcopy.configs:218 - {'debug': True, 'project_url': 'https://arxiv.org/e-print/2301.12778', 'project_name': 'sourcecode', 'project_folder': '//Users/Ricaldi/Documents/Second Year Master/arXiv/sourcecode', 'threaded': False, 'thread_join_timeout': None, 'tree_type': 'HIERARCHY', 'overwrite': False, 'bypass_robots': True, 'http_cache': False, 'http_headers': {'User-Agent': 'Mozilla/5.0 (Windows NT 10.0; Win64; x64; rv:70.0) Gecko/20100101 Firefox/70.0 PyWebCopyBot/7.0.2', 'Accept-Encoding': 'gzip, deflate', 'Accept': '*/*', 'Connection': 'keep-alive', 'Accept-Language': 'en-US,en;q=0.9'}, 'delay': None}\n",
      "INFO     - pywebcopy.schedulers.Scheduler:80 - Set the scheduler handler for link as: [<class 'pywebcopy.elements.CSSResource'>]\n",
      "INFO     - pywebcopy.schedulers.Scheduler:80 - Set the scheduler handler for style as: [<class 'pywebcopy.elements.CSSResource'>]\n",
      "INFO     - pywebcopy.schedulers.Scheduler:80 - Set the scheduler handler for img as: [<class 'pywebcopy.elements.GenericResource'>]\n",
      "INFO     - pywebcopy.schedulers.Scheduler:80 - Set the scheduler handler for script as: [<class 'pywebcopy.elements.JSResource'>]\n",
      "INFO     - pywebcopy.schedulers.Scheduler:80 - Set the scheduler handler for meta as: [<class 'pywebcopy.elements.GenericResource'>]\n",
      "INFO     - pywebcopy.schedulers.Scheduler:80 - Set the scheduler handler for iframe as: [<class 'pywebcopy.elements.AbsoluteUrlResource'>]\n",
      "INFO     - pywebcopy.schedulers.Scheduler:80 - Set the scheduler handler for form as: [<class 'pywebcopy.elements.AbsoluteUrlResource'>]\n",
      "INFO     - pywebcopy.schedulers.Scheduler:80 - Set the scheduler handler for a as: [<class 'pywebcopy.elements.AbsoluteUrlResource'>]\n",
      "INFO     - pywebcopy.session.Session:209 - [GET] [https://arxiv.org/e-print/2301.12778]\n",
      "DEBUG    - pywebcopy.schedulers.Scheduler:155 - Processing valid resource: <WebPage: https://arxiv.org/e-print/2301.12778>\n",
      "DEBUG    - pywebcopy.schedulers.Scheduler:177 - Scheduler trying to get resource at: [https://arxiv.org/e-print/2301.12778]\n",
      "INFO     - pywebcopy.session.Session:209 - [GET] [https://arxiv.org/e-print/2301.12778]\n",
      "DEBUG    - pywebcopy.schedulers.Scheduler:190 - Scheduler running handler for: [https://arxiv.org/e-print/2301.12778]\n",
      "DEBUG    - pywebcopy.elements.WebPage:452 - Resource at [https://arxiv.org/e-print/2301.12778] is NOT ok and will be NOT processed.\n",
      "ERROR    - pywebcopy.elements.WebPage:373 - Status Code [<403>] received from the server [https://arxiv.org/e-print/2301.12778]\n",
      "DEBUG    - pywebcopy.elements:111 - [File] Preparing to write file from <'https://arxiv.org/e-print/2301.12778'> to the disk at <'//Users/Ricaldi/Documents/Second Year Master/arXiv/sourcecode/arxiv.org/e-print/2301.12778.html'>.\n",
      "DEBUG    - pywebcopy.elements:64 - [File] Sub-directories created for: <'//Users/Ricaldi/Documents/Second Year Master/arXiv/sourcecode/arxiv.org/e-print/2301.12778.html'>\n",
      "INFO     - pywebcopy.elements:122 - [File] Written the file from <https://arxiv.org/e-print/2301.12778> to <//Users/Ricaldi/Documents/Second Year Master/arXiv/sourcecode/arxiv.org/e-print/2301.12778.html>\n",
      "INFO     - pywebcopy.elements.WebPage:233 - Opening default browser with file: //Users/Ricaldi/Documents/Second Year Master/arXiv/sourcecode/arxiv.org/e-print/2301.12778.html\n"
     ]
    }
   ],
   "source": [
    "%pip install pywebcopy\n",
    "from pywebcopy import save_webpage\n",
    "save_webpage(url=\"https://arxiv.org/e-print/2301.12778\",\n",
    "             project_folder=\"//Users//Ricaldi//Documents//Second Year Master//arXiv\",\n",
    "             project_name=\"sourcecode\",\n",
    "             bypass_robots=True,\n",
    "             debug=True,\n",
    "             open_in_browser=True,\n",
    "             delay=None,\n",
    "             threaded=False)"
   ]
  },
  {
   "cell_type": "markdown",
   "id": "b2fed4d9",
   "metadata": {},
   "source": [
    "Trial 2"
   ]
  },
  {
   "cell_type": "code",
   "execution_count": 2,
   "id": "7555ae76",
   "metadata": {},
   "outputs": [
    {
     "name": "stdout",
     "output_type": "stream",
     "text": [
      "Webpage to grab source from:https://arxiv.org/e-print/2301.12778\n",
      "Name for html file:trial1\n"
     ]
    }
   ],
   "source": [
    "import requests\n",
    "\n",
    "url = input('Webpage to grab source from:')\n",
    "html_output_name = input('Name for html file:')\n",
    "\n",
    "req = requests.get(url, 'html.parser')\n",
    "\n",
    "with open(html_output_name, 'w') as f:\n",
    "    f.write(req.text)\n",
    "    f.close()"
   ]
  },
  {
   "cell_type": "markdown",
   "id": "24a3a43b",
   "metadata": {},
   "source": [
    "Trial 3"
   ]
  },
  {
   "cell_type": "code",
   "execution_count": 4,
   "id": "e02da16c",
   "metadata": {},
   "outputs": [
    {
     "name": "stdout",
     "output_type": "stream",
     "text": [
      "ERROR: unknown command \"urllib2\"\n",
      "Note: you may need to restart the kernel to use updated packages.\n"
     ]
    },
    {
     "ename": "NameError",
     "evalue": "name 'urllib2' is not defined",
     "output_type": "error",
     "traceback": [
      "\u001b[0;31m---------------------------------------------------------------------------\u001b[0m",
      "\u001b[0;31mNameError\u001b[0m                                 Traceback (most recent call last)",
      "\u001b[0;32m<ipython-input-4-7fd37a5a68f5>\u001b[0m in \u001b[0;36m<module>\u001b[0;34m\u001b[0m\n\u001b[1;32m      1\u001b[0m \u001b[0mget_ipython\u001b[0m\u001b[0;34m(\u001b[0m\u001b[0;34m)\u001b[0m\u001b[0;34m.\u001b[0m\u001b[0mrun_line_magic\u001b[0m\u001b[0;34m(\u001b[0m\u001b[0;34m'pip'\u001b[0m\u001b[0;34m,\u001b[0m \u001b[0;34m'urllib2'\u001b[0m\u001b[0;34m)\u001b[0m\u001b[0;34m\u001b[0m\u001b[0;34m\u001b[0m\u001b[0m\n\u001b[0;32m----> 2\u001b[0;31m \u001b[0mresponse\u001b[0m \u001b[0;34m=\u001b[0m \u001b[0murllib2\u001b[0m\u001b[0;34m.\u001b[0m\u001b[0murlopen\u001b[0m\u001b[0;34m(\u001b[0m\u001b[0;34m\"https://arxiv.org/e-print/2301.12778\"\u001b[0m\u001b[0;34m)\u001b[0m\u001b[0;34m\u001b[0m\u001b[0;34m\u001b[0m\u001b[0m\n\u001b[0m\u001b[1;32m      3\u001b[0m \u001b[0mpage_source\u001b[0m \u001b[0;34m=\u001b[0m \u001b[0mresponse\u001b[0m\u001b[0;34m.\u001b[0m\u001b[0mread\u001b[0m\u001b[0;34m(\u001b[0m\u001b[0;34m)\u001b[0m\u001b[0;34m\u001b[0m\u001b[0;34m\u001b[0m\u001b[0m\n",
      "\u001b[0;31mNameError\u001b[0m: name 'urllib2' is not defined"
     ]
    }
   ],
   "source": [
    "import urllib2  \n",
    "response = urllib2.urlopen(\"https://arxiv.org/e-print/2301.12778\")  \n",
    "page_source = response.read() "
   ]
  },
  {
   "cell_type": "code",
   "execution_count": 10,
   "id": "efbc40f2",
   "metadata": {},
   "outputs": [
    {
     "ename": "SyntaxError",
     "evalue": "invalid syntax (<ipython-input-10-5477963b9486>, line 1)",
     "output_type": "error",
     "traceback": [
      "\u001b[0;36m  File \u001b[0;32m\"<ipython-input-10-5477963b9486>\"\u001b[0;36m, line \u001b[0;32m1\u001b[0m\n\u001b[0;31m    open(//Users//Ricaldi//Downloads//2301.12778)\u001b[0m\n\u001b[0m         ^\u001b[0m\n\u001b[0;31mSyntaxError\u001b[0m\u001b[0;31m:\u001b[0m invalid syntax\n"
     ]
    }
   ],
   "source": [
    "open(//Users//Ricaldi//Downloads//2301.12778)"
   ]
  },
  {
   "cell_type": "markdown",
   "id": "6acbf3d5",
   "metadata": {},
   "source": [
    "Trial 4"
   ]
  },
  {
   "cell_type": "code",
   "execution_count": 13,
   "id": "b2d0f8d4",
   "metadata": {},
   "outputs": [
    {
     "name": "stdout",
     "output_type": "stream",
     "text": [
      "Collecting pylatexenc\n",
      "  Downloading pylatexenc-2.10.tar.gz (162 kB)\n",
      "\u001b[2K     \u001b[90m━━━━━━━━━━━━━━━━━━━━━━━━━━━━━━━━━━━━━━━\u001b[0m \u001b[32m162.6/162.6 kB\u001b[0m \u001b[31m3.1 MB/s\u001b[0m eta \u001b[36m0:00:00\u001b[0ma \u001b[36m0:00:01\u001b[0m\n",
      "\u001b[?25h  Preparing metadata (setup.py) ... \u001b[?25ldone\n",
      "\u001b[?25hBuilding wheels for collected packages: pylatexenc\n",
      "  Building wheel for pylatexenc (setup.py) ... \u001b[?25ldone\n",
      "\u001b[?25h  Created wheel for pylatexenc: filename=pylatexenc-2.10-py3-none-any.whl size=136823 sha256=d3c922b627925acbef5d2b2cafc1d24c479229dfa2eb7331f5b8248aa14c33de\n",
      "  Stored in directory: /Users/Ricaldi/Library/Caches/pip/wheels/9a/52/2e/bee78a75d320510a169773636356b7f291cb340be842734851\n",
      "Successfully built pylatexenc\n",
      "Installing collected packages: pylatexenc\n",
      "Successfully installed pylatexenc-2.10\n",
      "Note: you may need to restart the kernel to use updated packages.\n"
     ]
    }
   ],
   "source": [
    "%pip install pylatexenc"
   ]
  },
  {
   "cell_type": "code",
   "execution_count": 1,
   "id": "11c889a5",
   "metadata": {},
   "outputs": [],
   "source": [
    "from pylatexenc import latexwalker\n",
    "from pylatexenc.latexwalker import LatexWalker, make_json_encoder\n",
    "data=\"https://arxiv.org/e-print/2207.12937\"\n",
    "def traverse(node: latexwalker.LatexNode)->None:\n",
    "    if node.isNodeType(latexwalker.LatexEnvironmentNode):\n",
    "        if node.environmentname==\"definition\":\n",
    "            # Print the raw LaTeX of the whole node including the \\begin{definition}\n",
    "            print(node.latex_verbatim())\n",
    "            # ... or without\n",
    "            print(\"\".join(x.latex_verbatim() for child in node.nodelist))\n",
    "        for child in node.nodelist: traverse(child)\n",
    "for node in LatexWalker(data).get_latex_nodes()[0]:\n",
    "    traverse(node)"
   ]
  },
  {
   "cell_type": "markdown",
   "id": "cb28cf11",
   "metadata": {},
   "source": [
    "# Trial 5"
   ]
  },
  {
   "cell_type": "markdown",
   "id": "d69d2d5a",
   "metadata": {},
   "source": [
    "This was the code utilized to get the .tex files from the source code. "
   ]
  },
  {
   "cell_type": "code",
   "execution_count": 31,
   "id": "4a89d72d",
   "metadata": {},
   "outputs": [
    {
     "name": "stdout",
     "output_type": "stream",
     "text": [
      "Extract single file from ZIP\n"
     ]
    }
   ],
   "source": [
    "from zipfile import ZipFile\n",
    "def main():\n",
    "    print('Extract single file from ZIP')\n",
    "    # Create a ZipFile Object and load sample.zip in it\n",
    "    with ZipFile('Archive.zip', 'r') as zipObj:\n",
    "       # Get a list of all archived file names from the zip\n",
    "       listOfFileNames = zipObj.namelist()\n",
    "       # Iterate over the file names\n",
    "       for fileName in listOfFileNames:\n",
    "           # Check filename endswith csv\n",
    "           if fileName.endswith('.tex'):\n",
    "               # Extract a single file from zip\n",
    "               zipObj.extract(fileName, 'source_tex')\n",
    "if __name__ == '__main__':\n",
    "   main()"
   ]
  },
  {
   "cell_type": "markdown",
   "id": "7f1a2b6c",
   "metadata": {},
   "source": [
    "Trial 6"
   ]
  },
  {
   "cell_type": "code",
   "execution_count": 30,
   "id": "4aea19fe",
   "metadata": {},
   "outputs": [
    {
     "ename": "BadGzipFile",
     "evalue": "Not a gzipped file (b'fi')",
     "output_type": "error",
     "traceback": [
      "\u001b[0;31m---------------------------------------------------------------------------\u001b[0m",
      "\u001b[0;31mBadGzipFile\u001b[0m                               Traceback (most recent call last)",
      "\u001b[0;32m<ipython-input-30-b61547915fd7>\u001b[0m in \u001b[0;36m<module>\u001b[0;34m\u001b[0m\n\u001b[1;32m     14\u001b[0m           \u001b[0mos\u001b[0m\u001b[0;34m.\u001b[0m\u001b[0mremove\u001b[0m\u001b[0;34m(\u001b[0m\u001b[0mgz_name\u001b[0m\u001b[0;34m)\u001b[0m \u001b[0;31m# delete zipped file\u001b[0m\u001b[0;34m\u001b[0m\u001b[0;34m\u001b[0m\u001b[0m\n\u001b[1;32m     15\u001b[0m \u001b[0;34m\u001b[0m\u001b[0m\n\u001b[0;32m---> 16\u001b[0;31m \u001b[0mgz_extract\u001b[0m\u001b[0;34m(\u001b[0m\u001b[0mdir_name\u001b[0m\u001b[0;34m)\u001b[0m\u001b[0;34m\u001b[0m\u001b[0;34m\u001b[0m\u001b[0m\n\u001b[0m",
      "\u001b[0;32m<ipython-input-30-b61547915fd7>\u001b[0m in \u001b[0;36mgz_extract\u001b[0;34m(directory)\u001b[0m\n\u001b[1;32m     11\u001b[0m           \u001b[0mfile_name\u001b[0m \u001b[0;34m=\u001b[0m \u001b[0;34m(\u001b[0m\u001b[0mos\u001b[0m\u001b[0;34m.\u001b[0m\u001b[0mpath\u001b[0m\u001b[0;34m.\u001b[0m\u001b[0mbasename\u001b[0m\u001b[0;34m(\u001b[0m\u001b[0mgz_name\u001b[0m\u001b[0;34m)\u001b[0m\u001b[0;34m)\u001b[0m\u001b[0;34m.\u001b[0m\u001b[0mrsplit\u001b[0m\u001b[0;34m(\u001b[0m\u001b[0;34m'.'\u001b[0m\u001b[0;34m,\u001b[0m\u001b[0;36m1\u001b[0m\u001b[0;34m)\u001b[0m\u001b[0;34m[\u001b[0m\u001b[0;36m0\u001b[0m\u001b[0;34m]\u001b[0m \u001b[0;31m#get file name for file within\u001b[0m\u001b[0;34m\u001b[0m\u001b[0;34m\u001b[0m\u001b[0m\n\u001b[1;32m     12\u001b[0m           \u001b[0;32mwith\u001b[0m \u001b[0mgzip\u001b[0m\u001b[0;34m.\u001b[0m\u001b[0mopen\u001b[0m\u001b[0;34m(\u001b[0m\u001b[0mgz_name\u001b[0m\u001b[0;34m,\u001b[0m\u001b[0;34m\"rb\"\u001b[0m\u001b[0;34m)\u001b[0m \u001b[0;32mas\u001b[0m \u001b[0mf_in\u001b[0m\u001b[0;34m,\u001b[0m \u001b[0mopen\u001b[0m\u001b[0;34m(\u001b[0m\u001b[0mfile_name\u001b[0m\u001b[0;34m,\u001b[0m\u001b[0;34m\"wb\"\u001b[0m\u001b[0;34m)\u001b[0m \u001b[0;32mas\u001b[0m \u001b[0mf_out\u001b[0m\u001b[0;34m:\u001b[0m\u001b[0;34m\u001b[0m\u001b[0;34m\u001b[0m\u001b[0m\n\u001b[0;32m---> 13\u001b[0;31m               \u001b[0mshutil\u001b[0m\u001b[0;34m.\u001b[0m\u001b[0mcopyfileobj\u001b[0m\u001b[0;34m(\u001b[0m\u001b[0mf_in\u001b[0m\u001b[0;34m,\u001b[0m \u001b[0mf_out\u001b[0m\u001b[0;34m)\u001b[0m\u001b[0;34m\u001b[0m\u001b[0;34m\u001b[0m\u001b[0m\n\u001b[0m\u001b[1;32m     14\u001b[0m           \u001b[0mos\u001b[0m\u001b[0;34m.\u001b[0m\u001b[0mremove\u001b[0m\u001b[0;34m(\u001b[0m\u001b[0mgz_name\u001b[0m\u001b[0;34m)\u001b[0m \u001b[0;31m# delete zipped file\u001b[0m\u001b[0;34m\u001b[0m\u001b[0;34m\u001b[0m\u001b[0m\n\u001b[1;32m     15\u001b[0m \u001b[0;34m\u001b[0m\u001b[0m\n",
      "\u001b[0;32m/opt/anaconda3/lib/python3.8/shutil.py\u001b[0m in \u001b[0;36mcopyfileobj\u001b[0;34m(fsrc, fdst, length)\u001b[0m\n\u001b[1;32m    203\u001b[0m     \u001b[0mfdst_write\u001b[0m \u001b[0;34m=\u001b[0m \u001b[0mfdst\u001b[0m\u001b[0;34m.\u001b[0m\u001b[0mwrite\u001b[0m\u001b[0;34m\u001b[0m\u001b[0;34m\u001b[0m\u001b[0m\n\u001b[1;32m    204\u001b[0m     \u001b[0;32mwhile\u001b[0m \u001b[0;32mTrue\u001b[0m\u001b[0;34m:\u001b[0m\u001b[0;34m\u001b[0m\u001b[0;34m\u001b[0m\u001b[0m\n\u001b[0;32m--> 205\u001b[0;31m         \u001b[0mbuf\u001b[0m \u001b[0;34m=\u001b[0m \u001b[0mfsrc_read\u001b[0m\u001b[0;34m(\u001b[0m\u001b[0mlength\u001b[0m\u001b[0;34m)\u001b[0m\u001b[0;34m\u001b[0m\u001b[0;34m\u001b[0m\u001b[0m\n\u001b[0m\u001b[1;32m    206\u001b[0m         \u001b[0;32mif\u001b[0m \u001b[0;32mnot\u001b[0m \u001b[0mbuf\u001b[0m\u001b[0;34m:\u001b[0m\u001b[0;34m\u001b[0m\u001b[0;34m\u001b[0m\u001b[0m\n\u001b[1;32m    207\u001b[0m             \u001b[0;32mbreak\u001b[0m\u001b[0;34m\u001b[0m\u001b[0;34m\u001b[0m\u001b[0m\n",
      "\u001b[0;32m/opt/anaconda3/lib/python3.8/gzip.py\u001b[0m in \u001b[0;36mread\u001b[0;34m(self, size)\u001b[0m\n\u001b[1;32m    290\u001b[0m             \u001b[0;32mimport\u001b[0m \u001b[0merrno\u001b[0m\u001b[0;34m\u001b[0m\u001b[0;34m\u001b[0m\u001b[0m\n\u001b[1;32m    291\u001b[0m             \u001b[0;32mraise\u001b[0m \u001b[0mOSError\u001b[0m\u001b[0;34m(\u001b[0m\u001b[0merrno\u001b[0m\u001b[0;34m.\u001b[0m\u001b[0mEBADF\u001b[0m\u001b[0;34m,\u001b[0m \u001b[0;34m\"read() on write-only GzipFile object\"\u001b[0m\u001b[0;34m)\u001b[0m\u001b[0;34m\u001b[0m\u001b[0;34m\u001b[0m\u001b[0m\n\u001b[0;32m--> 292\u001b[0;31m         \u001b[0;32mreturn\u001b[0m \u001b[0mself\u001b[0m\u001b[0;34m.\u001b[0m\u001b[0m_buffer\u001b[0m\u001b[0;34m.\u001b[0m\u001b[0mread\u001b[0m\u001b[0;34m(\u001b[0m\u001b[0msize\u001b[0m\u001b[0;34m)\u001b[0m\u001b[0;34m\u001b[0m\u001b[0;34m\u001b[0m\u001b[0m\n\u001b[0m\u001b[1;32m    293\u001b[0m \u001b[0;34m\u001b[0m\u001b[0m\n\u001b[1;32m    294\u001b[0m     \u001b[0;32mdef\u001b[0m \u001b[0mread1\u001b[0m\u001b[0;34m(\u001b[0m\u001b[0mself\u001b[0m\u001b[0;34m,\u001b[0m \u001b[0msize\u001b[0m\u001b[0;34m=\u001b[0m\u001b[0;34m-\u001b[0m\u001b[0;36m1\u001b[0m\u001b[0;34m)\u001b[0m\u001b[0;34m:\u001b[0m\u001b[0;34m\u001b[0m\u001b[0;34m\u001b[0m\u001b[0m\n",
      "\u001b[0;32m/opt/anaconda3/lib/python3.8/_compression.py\u001b[0m in \u001b[0;36mreadinto\u001b[0;34m(self, b)\u001b[0m\n\u001b[1;32m     66\u001b[0m     \u001b[0;32mdef\u001b[0m \u001b[0mreadinto\u001b[0m\u001b[0;34m(\u001b[0m\u001b[0mself\u001b[0m\u001b[0;34m,\u001b[0m \u001b[0mb\u001b[0m\u001b[0;34m)\u001b[0m\u001b[0;34m:\u001b[0m\u001b[0;34m\u001b[0m\u001b[0;34m\u001b[0m\u001b[0m\n\u001b[1;32m     67\u001b[0m         \u001b[0;32mwith\u001b[0m \u001b[0mmemoryview\u001b[0m\u001b[0;34m(\u001b[0m\u001b[0mb\u001b[0m\u001b[0;34m)\u001b[0m \u001b[0;32mas\u001b[0m \u001b[0mview\u001b[0m\u001b[0;34m,\u001b[0m \u001b[0mview\u001b[0m\u001b[0;34m.\u001b[0m\u001b[0mcast\u001b[0m\u001b[0;34m(\u001b[0m\u001b[0;34m\"B\"\u001b[0m\u001b[0;34m)\u001b[0m \u001b[0;32mas\u001b[0m \u001b[0mbyte_view\u001b[0m\u001b[0;34m:\u001b[0m\u001b[0;34m\u001b[0m\u001b[0;34m\u001b[0m\u001b[0m\n\u001b[0;32m---> 68\u001b[0;31m             \u001b[0mdata\u001b[0m \u001b[0;34m=\u001b[0m \u001b[0mself\u001b[0m\u001b[0;34m.\u001b[0m\u001b[0mread\u001b[0m\u001b[0;34m(\u001b[0m\u001b[0mlen\u001b[0m\u001b[0;34m(\u001b[0m\u001b[0mbyte_view\u001b[0m\u001b[0;34m)\u001b[0m\u001b[0;34m)\u001b[0m\u001b[0;34m\u001b[0m\u001b[0;34m\u001b[0m\u001b[0m\n\u001b[0m\u001b[1;32m     69\u001b[0m             \u001b[0mbyte_view\u001b[0m\u001b[0;34m[\u001b[0m\u001b[0;34m:\u001b[0m\u001b[0mlen\u001b[0m\u001b[0;34m(\u001b[0m\u001b[0mdata\u001b[0m\u001b[0;34m)\u001b[0m\u001b[0;34m]\u001b[0m \u001b[0;34m=\u001b[0m \u001b[0mdata\u001b[0m\u001b[0;34m\u001b[0m\u001b[0;34m\u001b[0m\u001b[0m\n\u001b[1;32m     70\u001b[0m         \u001b[0;32mreturn\u001b[0m \u001b[0mlen\u001b[0m\u001b[0;34m(\u001b[0m\u001b[0mdata\u001b[0m\u001b[0;34m)\u001b[0m\u001b[0;34m\u001b[0m\u001b[0;34m\u001b[0m\u001b[0m\n",
      "\u001b[0;32m/opt/anaconda3/lib/python3.8/gzip.py\u001b[0m in \u001b[0;36mread\u001b[0;34m(self, size)\u001b[0m\n\u001b[1;32m    477\u001b[0m                 \u001b[0;31m# jump to the next member, if there is one.\u001b[0m\u001b[0;34m\u001b[0m\u001b[0;34m\u001b[0m\u001b[0;34m\u001b[0m\u001b[0m\n\u001b[1;32m    478\u001b[0m                 \u001b[0mself\u001b[0m\u001b[0;34m.\u001b[0m\u001b[0m_init_read\u001b[0m\u001b[0;34m(\u001b[0m\u001b[0;34m)\u001b[0m\u001b[0;34m\u001b[0m\u001b[0;34m\u001b[0m\u001b[0m\n\u001b[0;32m--> 479\u001b[0;31m                 \u001b[0;32mif\u001b[0m \u001b[0;32mnot\u001b[0m \u001b[0mself\u001b[0m\u001b[0;34m.\u001b[0m\u001b[0m_read_gzip_header\u001b[0m\u001b[0;34m(\u001b[0m\u001b[0;34m)\u001b[0m\u001b[0;34m:\u001b[0m\u001b[0;34m\u001b[0m\u001b[0;34m\u001b[0m\u001b[0m\n\u001b[0m\u001b[1;32m    480\u001b[0m                     \u001b[0mself\u001b[0m\u001b[0;34m.\u001b[0m\u001b[0m_size\u001b[0m \u001b[0;34m=\u001b[0m \u001b[0mself\u001b[0m\u001b[0;34m.\u001b[0m\u001b[0m_pos\u001b[0m\u001b[0;34m\u001b[0m\u001b[0;34m\u001b[0m\u001b[0m\n\u001b[1;32m    481\u001b[0m                     \u001b[0;32mreturn\u001b[0m \u001b[0;34mb\"\"\u001b[0m\u001b[0;34m\u001b[0m\u001b[0;34m\u001b[0m\u001b[0m\n",
      "\u001b[0;32m/opt/anaconda3/lib/python3.8/gzip.py\u001b[0m in \u001b[0;36m_read_gzip_header\u001b[0;34m(self)\u001b[0m\n\u001b[1;32m    425\u001b[0m \u001b[0;34m\u001b[0m\u001b[0m\n\u001b[1;32m    426\u001b[0m         \u001b[0;32mif\u001b[0m \u001b[0mmagic\u001b[0m \u001b[0;34m!=\u001b[0m \u001b[0;34mb'\\037\\213'\u001b[0m\u001b[0;34m:\u001b[0m\u001b[0;34m\u001b[0m\u001b[0;34m\u001b[0m\u001b[0m\n\u001b[0;32m--> 427\u001b[0;31m             \u001b[0;32mraise\u001b[0m \u001b[0mBadGzipFile\u001b[0m\u001b[0;34m(\u001b[0m\u001b[0;34m'Not a gzipped file (%r)'\u001b[0m \u001b[0;34m%\u001b[0m \u001b[0mmagic\u001b[0m\u001b[0;34m)\u001b[0m\u001b[0;34m\u001b[0m\u001b[0;34m\u001b[0m\u001b[0m\n\u001b[0m\u001b[1;32m    428\u001b[0m \u001b[0;34m\u001b[0m\u001b[0m\n\u001b[1;32m    429\u001b[0m         (method, flag,\n",
      "\u001b[0;31mBadGzipFile\u001b[0m: Not a gzipped file (b'fi')"
     ]
    }
   ],
   "source": [
    "import os, gzip, shutil\n",
    "\n",
    "dir_name = '/Users/Ricaldi/Documents/Second Year Master/arXiv'\n",
    "\n",
    "def gz_extract(directory):\n",
    "    extension = \".gz\"\n",
    "    os.chdir(directory)\n",
    "    for item in os.listdir(directory): # loop through items in dir\n",
    "      if item.endswith(extension): # check for \".gz\" extension\n",
    "          gz_name = os.path.abspath(item) # get full path of files\n",
    "          file_name = (os.path.basename(gz_name)).rsplit('.',1)[0] #get file name for file within\n",
    "          with gzip.open(gz_name,\"rb\") as f_in, open(file_name,\"wb\") as f_out:\n",
    "              shutil.copyfileobj(f_in, f_out)\n",
    "          os.remove(gz_name) # delete zipped file\n",
    "        \n",
    "gz_extract(dir_name)"
   ]
  },
  {
   "cell_type": "code",
   "execution_count": null,
   "id": "89984e79",
   "metadata": {},
   "outputs": [],
   "source": []
  }
 ],
 "metadata": {
  "kernelspec": {
   "display_name": "Python 3",
   "language": "python",
   "name": "python3"
  },
  "language_info": {
   "codemirror_mode": {
    "name": "ipython",
    "version": 3
   },
   "file_extension": ".py",
   "mimetype": "text/x-python",
   "name": "python",
   "nbconvert_exporter": "python",
   "pygments_lexer": "ipython3",
   "version": "3.8.8"
  }
 },
 "nbformat": 4,
 "nbformat_minor": 5
}
