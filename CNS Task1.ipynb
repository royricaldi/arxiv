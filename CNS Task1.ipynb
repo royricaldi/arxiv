{
 "cells": [
  {
   "cell_type": "markdown",
   "id": "94fc37de",
   "metadata": {},
   "source": [
    "# Task 1"
   ]
  },
  {
   "cell_type": "markdown",
   "id": "b93557f6",
   "metadata": {},
   "source": []
  },
  {
   "cell_type": "markdown",
   "id": "ab55024c",
   "metadata": {},
   "source": [
    "Trial 1"
   ]
  },
  {
   "cell_type": "code",
   "execution_count": 1,
   "id": "2c0ba9cf",
   "metadata": {},
   "outputs": [
    {
     "name": "stdout",
     "output_type": "stream",
     "text": [
      "Requirement already satisfied: pywebcopy in /opt/anaconda3/lib/python3.8/site-packages (7.0.2)\n",
      "Requirement already satisfied: six in /opt/anaconda3/lib/python3.8/site-packages (from pywebcopy) (1.15.0)\n",
      "Requirement already satisfied: lxml in /opt/anaconda3/lib/python3.8/site-packages (from pywebcopy) (4.6.3)\n",
      "Requirement already satisfied: requests in /opt/anaconda3/lib/python3.8/site-packages (from pywebcopy) (2.25.1)\n",
      "Requirement already satisfied: setuptools in /opt/anaconda3/lib/python3.8/site-packages (from pywebcopy) (52.0.0.post20210125)\n",
      "Requirement already satisfied: cachecontrol in /opt/anaconda3/lib/python3.8/site-packages (from pywebcopy) (0.12.11)\n",
      "Requirement already satisfied: msgpack>=0.5.2 in /opt/anaconda3/lib/python3.8/site-packages (from cachecontrol->pywebcopy) (1.0.2)\n",
      "Requirement already satisfied: urllib3<1.27,>=1.21.1 in /opt/anaconda3/lib/python3.8/site-packages (from requests->pywebcopy) (1.26.4)\n",
      "Requirement already satisfied: idna<3,>=2.5 in /opt/anaconda3/lib/python3.8/site-packages (from requests->pywebcopy) (2.10)\n",
      "Requirement already satisfied: chardet<5,>=3.0.2 in /opt/anaconda3/lib/python3.8/site-packages (from requests->pywebcopy) (4.0.0)\n",
      "Requirement already satisfied: certifi>=2017.4.17 in /opt/anaconda3/lib/python3.8/site-packages (from requests->pywebcopy) (2020.12.5)\n",
      "Note: you may need to restart the kernel to use updated packages.\n"
     ]
    },
    {
     "name": "stderr",
     "output_type": "stream",
     "text": [
      "DEBUG    - pywebcopy:56 - Added a stderr logging handler to logger: pywebcopy\n",
      "DEBUG    - pywebcopy.configs:218 - {'debug': True, 'project_url': 'https://arxiv.org/pdf/2202.02104', 'project_name': 'sourcecode', 'project_folder': '//Users/Ricaldi/Documents/Second Year Master/arXiv/sourcecode', 'threaded': False, 'thread_join_timeout': None, 'tree_type': 'HIERARCHY', 'overwrite': False, 'bypass_robots': True, 'http_cache': False, 'http_headers': {'User-Agent': 'Mozilla/5.0 (Windows NT 10.0; Win64; x64; rv:70.0) Gecko/20100101 Firefox/70.0 PyWebCopyBot/7.0.2', 'Accept-Encoding': 'gzip, deflate', 'Accept': '*/*', 'Connection': 'keep-alive', 'Accept-Language': 'en-US,en;q=0.9'}, 'delay': None}\n",
      "INFO     - pywebcopy.schedulers.Scheduler:80 - Set the scheduler handler for link as: [<class 'pywebcopy.elements.CSSResource'>]\n",
      "INFO     - pywebcopy.schedulers.Scheduler:80 - Set the scheduler handler for style as: [<class 'pywebcopy.elements.CSSResource'>]\n",
      "INFO     - pywebcopy.schedulers.Scheduler:80 - Set the scheduler handler for img as: [<class 'pywebcopy.elements.GenericResource'>]\n",
      "INFO     - pywebcopy.schedulers.Scheduler:80 - Set the scheduler handler for script as: [<class 'pywebcopy.elements.JSResource'>]\n",
      "INFO     - pywebcopy.schedulers.Scheduler:80 - Set the scheduler handler for meta as: [<class 'pywebcopy.elements.GenericResource'>]\n",
      "INFO     - pywebcopy.schedulers.Scheduler:80 - Set the scheduler handler for form as: [<class 'pywebcopy.elements.AbsoluteUrlResource'>]\n",
      "INFO     - pywebcopy.schedulers.Scheduler:80 - Set the scheduler handler for iframe as: [<class 'pywebcopy.elements.AbsoluteUrlResource'>]\n",
      "INFO     - pywebcopy.schedulers.Scheduler:80 - Set the scheduler handler for a as: [<class 'pywebcopy.elements.AbsoluteUrlResource'>]\n",
      "INFO     - pywebcopy.session.Session:209 - [GET] [https://arxiv.org/pdf/2202.02104]\n",
      "INFO     - pywebcopy.session.Session:209 - [GET] [https://arxiv.org/pdf/2202.02104.pdf]\n",
      "DEBUG    - pywebcopy.schedulers.Scheduler:155 - Processing valid resource: <WebPage: https://arxiv.org/pdf/2202.02104.pdf>\n",
      "DEBUG    - pywebcopy.schedulers.Scheduler:177 - Scheduler trying to get resource at: [https://arxiv.org/pdf/2202.02104.pdf]\n",
      "INFO     - pywebcopy.session.Session:209 - [GET] [https://arxiv.org/pdf/2202.02104.pdf]\n",
      "DEBUG    - pywebcopy.schedulers.Scheduler:190 - Scheduler running handler for: [https://arxiv.org/pdf/2202.02104.pdf]\n",
      "DEBUG    - pywebcopy.elements.WebPage:452 - Resource at [https://arxiv.org/pdf/2202.02104.pdf] is NOT ok and will be NOT processed.\n",
      "ERROR    - pywebcopy.elements.WebPage:373 - Status Code [<403>] received from the server [https://arxiv.org/pdf/2202.02104.pdf]\n",
      "DEBUG    - pywebcopy.elements:111 - [File] Preparing to write file from <'https://arxiv.org/pdf/2202.02104.pdf'> to the disk at <'//Users/Ricaldi/Documents/Second Year Master/arXiv/sourcecode/arxiv.org/pdf/2202.02104.pdf.html'>.\n",
      "DEBUG    - pywebcopy.elements:64 - [File] Sub-directories created for: <'//Users/Ricaldi/Documents/Second Year Master/arXiv/sourcecode/arxiv.org/pdf/2202.02104.pdf.html'>\n",
      "INFO     - pywebcopy.elements:122 - [File] Written the file from <https://arxiv.org/pdf/2202.02104.pdf> to <//Users/Ricaldi/Documents/Second Year Master/arXiv/sourcecode/arxiv.org/pdf/2202.02104.pdf.html>\n",
      "INFO     - pywebcopy.elements.WebPage:233 - Opening default browser with file: //Users/Ricaldi/Documents/Second Year Master/arXiv/sourcecode/arxiv.org/pdf/2202.02104.pdf.html\n"
     ]
    }
   ],
   "source": [
    "%pip install pywebcopy\n",
    "from pywebcopy import save_webpage\n",
    "save_webpage(url=\"https://arxiv.org/abs/1901.02672\",\n",
    "             project_folder=\"//Users//Ricaldi//Documents//Second Year Master//arXiv\",\n",
    "             project_name=\"sourcecode\",\n",
    "             bypass_robots=True,\n",
    "             debug=True,\n",
    "             open_in_browser=True,\n",
    "             delay=None,\n",
    "             threaded=False)"
   ]
  },
  {
   "cell_type": "markdown",
   "id": "b2fed4d9",
   "metadata": {},
   "source": [
    "Trial 2"
   ]
  },
  {
   "cell_type": "code",
   "execution_count": null,
   "id": "7555ae76",
   "metadata": {},
   "outputs": [],
   "source": [
    "import requests\n",
    "\n",
    "url = input('Webpage to grab source from:')\n",
    "html_output_name = input('Name for html file:')\n",
    "\n",
    "req = requests.get(url, 'html.parser')\n",
    "\n",
    "with open(html_output_name, 'w') as f:\n",
    "    f.write(req.text)\n",
    "    f.close()"
   ]
  },
  {
   "cell_type": "markdown",
   "id": "24a3a43b",
   "metadata": {},
   "source": [
    "Trial 3"
   ]
  },
  {
   "cell_type": "code",
   "execution_count": null,
   "id": "e02da16c",
   "metadata": {},
   "outputs": [],
   "source": [
    "import urllib2  \n",
    "response = urllib2.urlopen(\"https://arxiv.org/abs/1901.02672\")  \n",
    "page_source = response.read() "
   ]
  }
 ],
 "metadata": {
  "kernelspec": {
   "display_name": "Python 3",
   "language": "python",
   "name": "python3"
  },
  "language_info": {
   "codemirror_mode": {
    "name": "ipython",
    "version": 3
   },
   "file_extension": ".py",
   "mimetype": "text/x-python",
   "name": "python",
   "nbconvert_exporter": "python",
   "pygments_lexer": "ipython3",
   "version": "3.8.8"
  }
 },
 "nbformat": 4,
 "nbformat_minor": 5
}
