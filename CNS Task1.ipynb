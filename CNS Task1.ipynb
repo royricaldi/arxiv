{
 "cells": [
  {
   "cell_type": "code",
   "execution_count": 1,
   "id": "b51eb94c",
   "metadata": {},
   "outputs": [
    {
     "ename": "SyntaxError",
     "evalue": "invalid syntax (<ipython-input-1-052d245fddbd>, line 1)",
     "output_type": "error",
     "traceback": [
      "\u001b[0;36m  File \u001b[0;32m\"<ipython-input-1-052d245fddbd>\"\u001b[0;36m, line \u001b[0;32m1\u001b[0m\n\u001b[0;31m    python3 -m pip install --upgrade pip setuptools wheel\u001b[0m\n\u001b[0m               ^\u001b[0m\n\u001b[0;31mSyntaxError\u001b[0m\u001b[0;31m:\u001b[0m invalid syntax\n"
     ]
    }
   ],
   "source": [
    "pip install pywebcopy\n",
    "\n",
    "from pywebcopy import save_webpage\n",
    "\n",
    "save_webpage(url=\"https://www.rapidtables.com/calc/time/age-calculator.html\",\n",
    "             project_folder=\"C:\\\\Users\\\\westi\\\\OneDrive\\\\Desktop\\\\projects\\\\media\\\\views\\\\sourcecode\",\n",
    "             project_name=\"my_site\",\n",
    "             bypass_robots=True,\n",
    "             debug=True,\n",
    "             open_in_browser=True,\n",
    "             delay=None,\n",
    "             threaded=False)"
   ]
  },
  {
   "cell_type": "code",
   "execution_count": 7,
   "id": "ff6eea23",
   "metadata": {},
   "outputs": [],
   "source": []
  },
  {
   "cell_type": "code",
   "execution_count": null,
   "id": "66d3be45",
   "metadata": {},
   "outputs": [],
   "source": []
  }
 ],
 "metadata": {
  "kernelspec": {
   "display_name": "Python 3",
   "language": "python",
   "name": "python3"
  },
  "language_info": {
   "codemirror_mode": {
    "name": "ipython",
    "version": 3
   },
   "file_extension": ".py",
   "mimetype": "text/x-python",
   "name": "python",
   "nbconvert_exporter": "python",
   "pygments_lexer": "ipython3",
   "version": "3.8.8"
  }
 },
 "nbformat": 4,
 "nbformat_minor": 5
}
